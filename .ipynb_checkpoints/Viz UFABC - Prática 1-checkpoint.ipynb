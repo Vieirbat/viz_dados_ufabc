{
 "cells": [
  {
   "cell_type": "markdown",
   "metadata": {},
   "source": [
    "# Visualização de Dados e Informações - Prática #01\n",
    "\n",
    "- Daniel Vieira Batista\n",
    "- RA: 11106614"
   ]
  },
  {
   "cell_type": "markdown",
   "metadata": {},
   "source": [
    "- Dependências:"
   ]
  },
  {
   "cell_type": "code",
   "execution_count": 3,
   "metadata": {},
   "outputs": [],
   "source": [
    "import pandas as pd\n",
    "import numpy as np\n",
    "import seaborn as sb\n",
    "import plotly as ply\n",
    "from matplotlib import pyplot as plt"
   ]
  },
  {
   "cell_type": "markdown",
   "metadata": {},
   "source": [
    "- Leitura dos dados"
   ]
  },
  {
   "cell_type": "code",
   "execution_count": 6,
   "metadata": {},
   "outputs": [],
   "source": [
    "df_vendas = pd.read_csv(\"VIS_Pr_01_Vendas.csv\", sep=\",\", decimal=\".\", encoding=\"latin-1\")"
   ]
  },
  {
   "cell_type": "code",
   "execution_count": 9,
   "metadata": {},
   "outputs": [
    {
     "data": {
      "text/html": [
       "<div>\n",
       "<style scoped>\n",
       "    .dataframe tbody tr th:only-of-type {\n",
       "        vertical-align: middle;\n",
       "    }\n",
       "\n",
       "    .dataframe tbody tr th {\n",
       "        vertical-align: top;\n",
       "    }\n",
       "\n",
       "    .dataframe thead th {\n",
       "        text-align: right;\n",
       "    }\n",
       "</style>\n",
       "<table border=\"1\" class=\"dataframe\">\n",
       "  <thead>\n",
       "    <tr style=\"text-align: right;\">\n",
       "      <th></th>\n",
       "      <th>Row ID</th>\n",
       "      <th>Order ID</th>\n",
       "      <th>Order Date</th>\n",
       "      <th>Ship Date</th>\n",
       "      <th>Ship Mode</th>\n",
       "      <th>Customer ID</th>\n",
       "      <th>Customer Name</th>\n",
       "      <th>Segment</th>\n",
       "      <th>Country</th>\n",
       "      <th>City</th>\n",
       "      <th>...</th>\n",
       "      <th>Postal Code</th>\n",
       "      <th>Region</th>\n",
       "      <th>Product ID</th>\n",
       "      <th>Category</th>\n",
       "      <th>Sub-Category</th>\n",
       "      <th>Product Name</th>\n",
       "      <th>Sales</th>\n",
       "      <th>Quantity</th>\n",
       "      <th>Discount</th>\n",
       "      <th>Profit</th>\n",
       "    </tr>\n",
       "  </thead>\n",
       "  <tbody>\n",
       "    <tr>\n",
       "      <th>0</th>\n",
       "      <td>1</td>\n",
       "      <td>CA-2016-152156</td>\n",
       "      <td>11/8/2016</td>\n",
       "      <td>11/11/2016</td>\n",
       "      <td>Second Class</td>\n",
       "      <td>CG-12520</td>\n",
       "      <td>Claire Gute</td>\n",
       "      <td>Consumer</td>\n",
       "      <td>United States</td>\n",
       "      <td>Henderson</td>\n",
       "      <td>...</td>\n",
       "      <td>42420</td>\n",
       "      <td>South</td>\n",
       "      <td>FUR-BO-10001798</td>\n",
       "      <td>Furniture</td>\n",
       "      <td>Bookcases</td>\n",
       "      <td>Bush Somerset Collection Bookcase</td>\n",
       "      <td>261.96</td>\n",
       "      <td>2</td>\n",
       "      <td>0.0</td>\n",
       "      <td>41.9136</td>\n",
       "    </tr>\n",
       "    <tr>\n",
       "      <th>1</th>\n",
       "      <td>2</td>\n",
       "      <td>CA-2016-152156</td>\n",
       "      <td>11/8/2016</td>\n",
       "      <td>11/11/2016</td>\n",
       "      <td>Second Class</td>\n",
       "      <td>CG-12520</td>\n",
       "      <td>Claire Gute</td>\n",
       "      <td>Consumer</td>\n",
       "      <td>United States</td>\n",
       "      <td>Henderson</td>\n",
       "      <td>...</td>\n",
       "      <td>42420</td>\n",
       "      <td>South</td>\n",
       "      <td>FUR-CH-10000454</td>\n",
       "      <td>Furniture</td>\n",
       "      <td>Chairs</td>\n",
       "      <td>Hon Deluxe Fabric Upholstered Stacking Chairs,...</td>\n",
       "      <td>731.94</td>\n",
       "      <td>3</td>\n",
       "      <td>0.0</td>\n",
       "      <td>219.5820</td>\n",
       "    </tr>\n",
       "  </tbody>\n",
       "</table>\n",
       "<p>2 rows × 21 columns</p>\n",
       "</div>"
      ],
      "text/plain": [
       "   Row ID        Order ID Order Date   Ship Date     Ship Mode Customer ID  \\\n",
       "0       1  CA-2016-152156  11/8/2016  11/11/2016  Second Class    CG-12520   \n",
       "1       2  CA-2016-152156  11/8/2016  11/11/2016  Second Class    CG-12520   \n",
       "\n",
       "  Customer Name   Segment        Country       City  ... Postal Code  Region  \\\n",
       "0   Claire Gute  Consumer  United States  Henderson  ...       42420   South   \n",
       "1   Claire Gute  Consumer  United States  Henderson  ...       42420   South   \n",
       "\n",
       "        Product ID   Category Sub-Category  \\\n",
       "0  FUR-BO-10001798  Furniture    Bookcases   \n",
       "1  FUR-CH-10000454  Furniture       Chairs   \n",
       "\n",
       "                                        Product Name   Sales  Quantity  \\\n",
       "0                  Bush Somerset Collection Bookcase  261.96         2   \n",
       "1  Hon Deluxe Fabric Upholstered Stacking Chairs,...  731.94         3   \n",
       "\n",
       "   Discount    Profit  \n",
       "0       0.0   41.9136  \n",
       "1       0.0  219.5820  \n",
       "\n",
       "[2 rows x 21 columns]"
      ]
     },
     "execution_count": 9,
     "metadata": {},
     "output_type": "execute_result"
    }
   ],
   "source": [
    "df_vendas.head(2)"
   ]
  },
  {
   "cell_type": "code",
   "execution_count": 34,
   "metadata": {},
   "outputs": [
    {
     "data": {
      "text/plain": [
       "(9994, 24)"
      ]
     },
     "execution_count": 34,
     "metadata": {},
     "output_type": "execute_result"
    }
   ],
   "source": [
    "df_vendas.shape"
   ]
  },
  {
   "cell_type": "code",
   "execution_count": 10,
   "metadata": {},
   "outputs": [
    {
     "data": {
      "text/html": [
       "<div>\n",
       "<style scoped>\n",
       "    .dataframe tbody tr th:only-of-type {\n",
       "        vertical-align: middle;\n",
       "    }\n",
       "\n",
       "    .dataframe tbody tr th {\n",
       "        vertical-align: top;\n",
       "    }\n",
       "\n",
       "    .dataframe thead th {\n",
       "        text-align: right;\n",
       "    }\n",
       "</style>\n",
       "<table border=\"1\" class=\"dataframe\">\n",
       "  <thead>\n",
       "    <tr style=\"text-align: right;\">\n",
       "      <th></th>\n",
       "      <th>0</th>\n",
       "      <th>1</th>\n",
       "      <th>2</th>\n",
       "    </tr>\n",
       "  </thead>\n",
       "  <tbody>\n",
       "    <tr>\n",
       "      <th>Row ID</th>\n",
       "      <td>1</td>\n",
       "      <td>2</td>\n",
       "      <td>3</td>\n",
       "    </tr>\n",
       "    <tr>\n",
       "      <th>Order ID</th>\n",
       "      <td>CA-2016-152156</td>\n",
       "      <td>CA-2016-152156</td>\n",
       "      <td>CA-2016-138688</td>\n",
       "    </tr>\n",
       "    <tr>\n",
       "      <th>Order Date</th>\n",
       "      <td>11/8/2016</td>\n",
       "      <td>11/8/2016</td>\n",
       "      <td>6/12/2016</td>\n",
       "    </tr>\n",
       "    <tr>\n",
       "      <th>Ship Date</th>\n",
       "      <td>11/11/2016</td>\n",
       "      <td>11/11/2016</td>\n",
       "      <td>6/16/2016</td>\n",
       "    </tr>\n",
       "    <tr>\n",
       "      <th>Ship Mode</th>\n",
       "      <td>Second Class</td>\n",
       "      <td>Second Class</td>\n",
       "      <td>Second Class</td>\n",
       "    </tr>\n",
       "    <tr>\n",
       "      <th>Customer ID</th>\n",
       "      <td>CG-12520</td>\n",
       "      <td>CG-12520</td>\n",
       "      <td>DV-13045</td>\n",
       "    </tr>\n",
       "    <tr>\n",
       "      <th>Customer Name</th>\n",
       "      <td>Claire Gute</td>\n",
       "      <td>Claire Gute</td>\n",
       "      <td>Darrin Van Huff</td>\n",
       "    </tr>\n",
       "    <tr>\n",
       "      <th>Segment</th>\n",
       "      <td>Consumer</td>\n",
       "      <td>Consumer</td>\n",
       "      <td>Corporate</td>\n",
       "    </tr>\n",
       "    <tr>\n",
       "      <th>Country</th>\n",
       "      <td>United States</td>\n",
       "      <td>United States</td>\n",
       "      <td>United States</td>\n",
       "    </tr>\n",
       "    <tr>\n",
       "      <th>City</th>\n",
       "      <td>Henderson</td>\n",
       "      <td>Henderson</td>\n",
       "      <td>Los Angeles</td>\n",
       "    </tr>\n",
       "    <tr>\n",
       "      <th>State</th>\n",
       "      <td>Kentucky</td>\n",
       "      <td>Kentucky</td>\n",
       "      <td>California</td>\n",
       "    </tr>\n",
       "    <tr>\n",
       "      <th>Postal Code</th>\n",
       "      <td>42420</td>\n",
       "      <td>42420</td>\n",
       "      <td>90036</td>\n",
       "    </tr>\n",
       "    <tr>\n",
       "      <th>Region</th>\n",
       "      <td>South</td>\n",
       "      <td>South</td>\n",
       "      <td>West</td>\n",
       "    </tr>\n",
       "    <tr>\n",
       "      <th>Product ID</th>\n",
       "      <td>FUR-BO-10001798</td>\n",
       "      <td>FUR-CH-10000454</td>\n",
       "      <td>OFF-LA-10000240</td>\n",
       "    </tr>\n",
       "    <tr>\n",
       "      <th>Category</th>\n",
       "      <td>Furniture</td>\n",
       "      <td>Furniture</td>\n",
       "      <td>Office Supplies</td>\n",
       "    </tr>\n",
       "    <tr>\n",
       "      <th>Sub-Category</th>\n",
       "      <td>Bookcases</td>\n",
       "      <td>Chairs</td>\n",
       "      <td>Labels</td>\n",
       "    </tr>\n",
       "    <tr>\n",
       "      <th>Product Name</th>\n",
       "      <td>Bush Somerset Collection Bookcase</td>\n",
       "      <td>Hon Deluxe Fabric Upholstered Stacking Chairs,...</td>\n",
       "      <td>Self-Adhesive Address Labels for Typewriters b...</td>\n",
       "    </tr>\n",
       "    <tr>\n",
       "      <th>Sales</th>\n",
       "      <td>261.96</td>\n",
       "      <td>731.94</td>\n",
       "      <td>14.62</td>\n",
       "    </tr>\n",
       "    <tr>\n",
       "      <th>Quantity</th>\n",
       "      <td>2</td>\n",
       "      <td>3</td>\n",
       "      <td>2</td>\n",
       "    </tr>\n",
       "    <tr>\n",
       "      <th>Discount</th>\n",
       "      <td>0.0</td>\n",
       "      <td>0.0</td>\n",
       "      <td>0.0</td>\n",
       "    </tr>\n",
       "    <tr>\n",
       "      <th>Profit</th>\n",
       "      <td>41.9136</td>\n",
       "      <td>219.582</td>\n",
       "      <td>6.8714</td>\n",
       "    </tr>\n",
       "  </tbody>\n",
       "</table>\n",
       "</div>"
      ],
      "text/plain": [
       "                                               0  \\\n",
       "Row ID                                         1   \n",
       "Order ID                          CA-2016-152156   \n",
       "Order Date                             11/8/2016   \n",
       "Ship Date                             11/11/2016   \n",
       "Ship Mode                           Second Class   \n",
       "Customer ID                             CG-12520   \n",
       "Customer Name                        Claire Gute   \n",
       "Segment                                 Consumer   \n",
       "Country                            United States   \n",
       "City                                   Henderson   \n",
       "State                                   Kentucky   \n",
       "Postal Code                                42420   \n",
       "Region                                     South   \n",
       "Product ID                       FUR-BO-10001798   \n",
       "Category                               Furniture   \n",
       "Sub-Category                           Bookcases   \n",
       "Product Name   Bush Somerset Collection Bookcase   \n",
       "Sales                                     261.96   \n",
       "Quantity                                       2   \n",
       "Discount                                     0.0   \n",
       "Profit                                   41.9136   \n",
       "\n",
       "                                                               1  \\\n",
       "Row ID                                                         2   \n",
       "Order ID                                          CA-2016-152156   \n",
       "Order Date                                             11/8/2016   \n",
       "Ship Date                                             11/11/2016   \n",
       "Ship Mode                                           Second Class   \n",
       "Customer ID                                             CG-12520   \n",
       "Customer Name                                        Claire Gute   \n",
       "Segment                                                 Consumer   \n",
       "Country                                            United States   \n",
       "City                                                   Henderson   \n",
       "State                                                   Kentucky   \n",
       "Postal Code                                                42420   \n",
       "Region                                                     South   \n",
       "Product ID                                       FUR-CH-10000454   \n",
       "Category                                               Furniture   \n",
       "Sub-Category                                              Chairs   \n",
       "Product Name   Hon Deluxe Fabric Upholstered Stacking Chairs,...   \n",
       "Sales                                                     731.94   \n",
       "Quantity                                                       3   \n",
       "Discount                                                     0.0   \n",
       "Profit                                                   219.582   \n",
       "\n",
       "                                                               2  \n",
       "Row ID                                                         3  \n",
       "Order ID                                          CA-2016-138688  \n",
       "Order Date                                             6/12/2016  \n",
       "Ship Date                                              6/16/2016  \n",
       "Ship Mode                                           Second Class  \n",
       "Customer ID                                             DV-13045  \n",
       "Customer Name                                    Darrin Van Huff  \n",
       "Segment                                                Corporate  \n",
       "Country                                            United States  \n",
       "City                                                 Los Angeles  \n",
       "State                                                 California  \n",
       "Postal Code                                                90036  \n",
       "Region                                                      West  \n",
       "Product ID                                       OFF-LA-10000240  \n",
       "Category                                         Office Supplies  \n",
       "Sub-Category                                              Labels  \n",
       "Product Name   Self-Adhesive Address Labels for Typewriters b...  \n",
       "Sales                                                      14.62  \n",
       "Quantity                                                       2  \n",
       "Discount                                                     0.0  \n",
       "Profit                                                    6.8714  "
      ]
     },
     "execution_count": 10,
     "metadata": {},
     "output_type": "execute_result"
    }
   ],
   "source": [
    "df_vendas.head(3).T"
   ]
  },
  {
   "cell_type": "code",
   "execution_count": 13,
   "metadata": {},
   "outputs": [
    {
     "name": "stdout",
     "output_type": "stream",
     "text": [
      "<class 'pandas.core.frame.DataFrame'>\n",
      "RangeIndex: 9994 entries, 0 to 9993\n",
      "Data columns (total 21 columns):\n",
      " #   Column         Non-Null Count  Dtype  \n",
      "---  ------         --------------  -----  \n",
      " 0   Row ID         9994 non-null   int64  \n",
      " 1   Order ID       9994 non-null   object \n",
      " 2   Order Date     9994 non-null   object \n",
      " 3   Ship Date      9994 non-null   object \n",
      " 4   Ship Mode      9994 non-null   object \n",
      " 5   Customer ID    9994 non-null   object \n",
      " 6   Customer Name  9994 non-null   object \n",
      " 7   Segment        9994 non-null   object \n",
      " 8   Country        9994 non-null   object \n",
      " 9   City           9994 non-null   object \n",
      " 10  State          9994 non-null   object \n",
      " 11  Postal Code    9994 non-null   int64  \n",
      " 12  Region         9994 non-null   object \n",
      " 13  Product ID     9994 non-null   object \n",
      " 14  Category       9994 non-null   object \n",
      " 15  Sub-Category   9994 non-null   object \n",
      " 16  Product Name   9994 non-null   object \n",
      " 17  Sales          9994 non-null   float64\n",
      " 18  Quantity       9994 non-null   int64  \n",
      " 19  Discount       9994 non-null   float64\n",
      " 20  Profit         9994 non-null   float64\n",
      "dtypes: float64(3), int64(3), object(15)\n",
      "memory usage: 1.6+ MB\n"
     ]
    }
   ],
   "source": [
    "df_vendas.info()"
   ]
  },
  {
   "cell_type": "markdown",
   "metadata": {},
   "source": [
    "------------------"
   ]
  },
  {
   "cell_type": "markdown",
   "metadata": {},
   "source": [
    "### Q1\n",
    "\n",
    "Q1. (2,0) Segundo seu chefe, o pessoal de Vendas adora Excel. Assim, eles gostariam de receber um CSV para\n",
    "contrastar Sales X Profit segmentado por Region, destacando qual a media de Discount aplicado."
   ]
  },
  {
   "cell_type": "markdown",
   "metadata": {},
   "source": [
    "- Quais são as regiões possíveis e suas volumetrias?"
   ]
  },
  {
   "cell_type": "code",
   "execution_count": 16,
   "metadata": {},
   "outputs": [
    {
     "data": {
      "text/plain": [
       "West       3203\n",
       "East       2848\n",
       "Central    2323\n",
       "South      1620\n",
       "Name: Region, dtype: int64"
      ]
     },
     "execution_count": 16,
     "metadata": {},
     "output_type": "execute_result"
    }
   ],
   "source": [
    "df_vendas.Region.value_counts(dropna=False, normalize=False)"
   ]
  },
  {
   "cell_type": "markdown",
   "metadata": {},
   "source": [
    "- Criando a função que fará a agregação:"
   ]
  },
  {
   "cell_type": "code",
   "execution_count": 45,
   "metadata": {},
   "outputs": [],
   "source": [
    "def agg_func(g):\n",
    "    \n",
    "    dictResult = {}\n",
    "    \n",
    "    dictResult['sales_total'] = g[\"Sales\"].sum()\n",
    "    dictResult['quantity_total'] = g[\"Quantity\"].sum()\n",
    "    dictResult['discount_mean'] = g[\"Discount\"].mean()\n",
    "    dictResult['discount_median'] = g[\"Discount\"].median()\n",
    "    dictResult['discount_std'] = g[\"Discount\"].std()\n",
    "    dictResult['discount_max'] = g[\"Discount\"].max()\n",
    "    dictResult['discount_min'] = g[\"Discount\"].min()\n",
    "    \n",
    "    return pd.Series(dictResult)"
   ]
  },
  {
   "cell_type": "code",
   "execution_count": 46,
   "metadata": {},
   "outputs": [
    {
     "name": "stdout",
     "output_type": "stream",
     "text": [
      "Wall time: 8 ms\n"
     ]
    }
   ],
   "source": [
    "%%time\n",
    "df_agg = df_vendas.groupby(by=[\"Region\"], as_index=False, axis=0, dropna=False, observed=False, sort=True).apply(agg_func)"
   ]
  },
  {
   "cell_type": "markdown",
   "metadata": {},
   "source": [
    "- <b>Resposta:</b>"
   ]
  },
  {
   "cell_type": "code",
   "execution_count": 47,
   "metadata": {},
   "outputs": [
    {
     "data": {
      "text/html": [
       "<div>\n",
       "<style scoped>\n",
       "    .dataframe tbody tr th:only-of-type {\n",
       "        vertical-align: middle;\n",
       "    }\n",
       "\n",
       "    .dataframe tbody tr th {\n",
       "        vertical-align: top;\n",
       "    }\n",
       "\n",
       "    .dataframe thead th {\n",
       "        text-align: right;\n",
       "    }\n",
       "</style>\n",
       "<table border=\"1\" class=\"dataframe\">\n",
       "  <thead>\n",
       "    <tr style=\"text-align: right;\">\n",
       "      <th></th>\n",
       "      <th>Region</th>\n",
       "      <th>sales_total</th>\n",
       "      <th>quantity_total</th>\n",
       "      <th>discount_mean</th>\n",
       "      <th>discount_median</th>\n",
       "      <th>discount_std</th>\n",
       "      <th>discount_max</th>\n",
       "      <th>discount_min</th>\n",
       "    </tr>\n",
       "  </thead>\n",
       "  <tbody>\n",
       "    <tr>\n",
       "      <th>0</th>\n",
       "      <td>Central</td>\n",
       "      <td>501239.8908</td>\n",
       "      <td>8780.0</td>\n",
       "      <td>0.240353</td>\n",
       "      <td>0.2</td>\n",
       "      <td>0.265433</td>\n",
       "      <td>0.8</td>\n",
       "      <td>0.0</td>\n",
       "    </tr>\n",
       "    <tr>\n",
       "      <th>1</th>\n",
       "      <td>East</td>\n",
       "      <td>678781.2400</td>\n",
       "      <td>10618.0</td>\n",
       "      <td>0.145365</td>\n",
       "      <td>0.0</td>\n",
       "      <td>0.193155</td>\n",
       "      <td>0.7</td>\n",
       "      <td>0.0</td>\n",
       "    </tr>\n",
       "    <tr>\n",
       "      <th>2</th>\n",
       "      <td>South</td>\n",
       "      <td>391721.9050</td>\n",
       "      <td>6209.0</td>\n",
       "      <td>0.147253</td>\n",
       "      <td>0.2</td>\n",
       "      <td>0.197420</td>\n",
       "      <td>0.7</td>\n",
       "      <td>0.0</td>\n",
       "    </tr>\n",
       "    <tr>\n",
       "      <th>3</th>\n",
       "      <td>West</td>\n",
       "      <td>725457.8245</td>\n",
       "      <td>12266.0</td>\n",
       "      <td>0.109335</td>\n",
       "      <td>0.0</td>\n",
       "      <td>0.146861</td>\n",
       "      <td>0.7</td>\n",
       "      <td>0.0</td>\n",
       "    </tr>\n",
       "  </tbody>\n",
       "</table>\n",
       "</div>"
      ],
      "text/plain": [
       "    Region  sales_total  quantity_total  discount_mean  discount_median  \\\n",
       "0  Central  501239.8908          8780.0       0.240353              0.2   \n",
       "1     East  678781.2400         10618.0       0.145365              0.0   \n",
       "2    South  391721.9050          6209.0       0.147253              0.2   \n",
       "3     West  725457.8245         12266.0       0.109335              0.0   \n",
       "\n",
       "   discount_std  discount_max  discount_min  \n",
       "0      0.265433           0.8           0.0  \n",
       "1      0.193155           0.7           0.0  \n",
       "2      0.197420           0.7           0.0  \n",
       "3      0.146861           0.7           0.0  "
      ]
     },
     "execution_count": 47,
     "metadata": {},
     "output_type": "execute_result"
    }
   ],
   "source": [
    "df_agg"
   ]
  },
  {
   "cell_type": "code",
   "execution_count": 88,
   "metadata": {},
   "outputs": [],
   "source": [
    "# O resultado com os dados ficará disponível com o nome \"dados_vendas.csv\"\n",
    "df_agg.to_csv(\"dados_vendas.csv\", sep=\";\", decimal=\".\")"
   ]
  },
  {
   "cell_type": "markdown",
   "metadata": {},
   "source": [
    "------------------"
   ]
  },
  {
   "cell_type": "markdown",
   "metadata": {},
   "source": [
    "### Q2\n",
    "\n",
    "Q2. (4,0) Ja para o pessoal de marketing de produto, seu chefe indicou que eles gostariam de uma visão de Profit acumulado por ano (Order Date) para cada um das sub-categorias de produto (Sub-Category). Marketing adora um gráfico de barras! Voce pode usar a bilioteca matplotlib ou seaborn."
   ]
  },
  {
   "cell_type": "raw",
   "metadata": {},
   "source": [
    "Profit, Order Date, Sub-Category"
   ]
  },
  {
   "cell_type": "markdown",
   "metadata": {},
   "source": [
    "- Quantos anos distintos temos?"
   ]
  },
  {
   "cell_type": "code",
   "execution_count": 48,
   "metadata": {},
   "outputs": [],
   "source": [
    "# Vamos converter para data para ficar mais fácil de trabalhar\n",
    "df_vendas['Order Date'] = pd.to_datetime(df_vendas['Order Date'], format=\"%m/%d/%Y\", errors=\"coerce\")"
   ]
  },
  {
   "cell_type": "code",
   "execution_count": 49,
   "metadata": {},
   "outputs": [],
   "source": [
    "# Criando as variáveis de dia, mês e ano\n",
    "df_vendas['day'] = df_vendas['Order Date'].apply(lambda e: e.day)\n",
    "df_vendas['month'] = df_vendas['Order Date'].apply(lambda e: e.month)\n",
    "df_vendas['year'] = df_vendas['Order Date'].apply(lambda e: e.year)"
   ]
  },
  {
   "cell_type": "code",
   "execution_count": 50,
   "metadata": {},
   "outputs": [
    {
     "data": {
      "text/plain": [
       "2017    3312\n",
       "2016    2587\n",
       "2015    2102\n",
       "2014    1993\n",
       "Name: year, dtype: int64"
      ]
     },
     "execution_count": 50,
     "metadata": {},
     "output_type": "execute_result"
    }
   ],
   "source": [
    "df_vendas['year'].value_counts()"
   ]
  },
  {
   "cell_type": "markdown",
   "metadata": {},
   "source": [
    "- Os dados de profit fazem sentido:"
   ]
  },
  {
   "cell_type": "code",
   "execution_count": 80,
   "metadata": {},
   "outputs": [
    {
     "data": {
      "text/plain": [
       "count    9994.000000\n",
       "mean       28.656896\n",
       "std       234.260108\n",
       "min     -6599.978000\n",
       "25%         1.728750\n",
       "50%         8.666500\n",
       "75%        29.364000\n",
       "max      8399.976000\n",
       "Name: Profit, dtype: float64"
      ]
     },
     "execution_count": 80,
     "metadata": {},
     "output_type": "execute_result"
    }
   ],
   "source": [
    "df_vendas.Profit.describe()"
   ]
  },
  {
   "cell_type": "markdown",
   "metadata": {},
   "source": [
    "- Quantas subcategorias temos?\n",
    "    - Temos mais categorias do que anos distintos, isso influencia no nosso plot;"
   ]
  },
  {
   "cell_type": "code",
   "execution_count": 51,
   "metadata": {},
   "outputs": [
    {
     "data": {
      "text/plain": [
       "Binders        1523\n",
       "Paper          1370\n",
       "Furnishings     957\n",
       "Phones          889\n",
       "Storage         846\n",
       "Art             796\n",
       "Accessories     775\n",
       "Chairs          617\n",
       "Appliances      466\n",
       "Labels          364\n",
       "Tables          319\n",
       "Envelopes       254\n",
       "Bookcases       228\n",
       "Fasteners       217\n",
       "Supplies        190\n",
       "Machines        115\n",
       "Copiers          68\n",
       "Name: Sub-Category, dtype: int64"
      ]
     },
     "execution_count": 51,
     "metadata": {},
     "output_type": "execute_result"
    }
   ],
   "source": [
    "df_vendas['Sub-Category'].value_counts(dropna=False, normalize=False)"
   ]
  },
  {
   "cell_type": "markdown",
   "metadata": {},
   "source": [
    "         "
   ]
  },
  {
   "cell_type": "markdown",
   "metadata": {},
   "source": [
    "- Gerando função de agregação:"
   ]
  },
  {
   "cell_type": "code",
   "execution_count": 64,
   "metadata": {},
   "outputs": [],
   "source": [
    "def agg_func_2(g):\n",
    "    \n",
    "    dictResult = {}\n",
    "    \n",
    "    g = g.sort_values(by=['year'], ascending=True)\n",
    "    dictResult['year'] = int(g[\"year\"].iat[0])\n",
    "    \n",
    "    dictResult['profit_sum'] = g[\"Profit\"].sum()\n",
    "    \n",
    "    return pd.Series(dictResult)"
   ]
  },
  {
   "cell_type": "code",
   "execution_count": 65,
   "metadata": {},
   "outputs": [
    {
     "name": "stdout",
     "output_type": "stream",
     "text": [
      "Wall time: 53 ms\n"
     ]
    },
    {
     "data": {
      "text/html": [
       "<div>\n",
       "<style scoped>\n",
       "    .dataframe tbody tr th:only-of-type {\n",
       "        vertical-align: middle;\n",
       "    }\n",
       "\n",
       "    .dataframe tbody tr th {\n",
       "        vertical-align: top;\n",
       "    }\n",
       "\n",
       "    .dataframe thead th {\n",
       "        text-align: right;\n",
       "    }\n",
       "</style>\n",
       "<table border=\"1\" class=\"dataframe\">\n",
       "  <thead>\n",
       "    <tr style=\"text-align: right;\">\n",
       "      <th></th>\n",
       "      <th>Sub-Category</th>\n",
       "      <th>year</th>\n",
       "      <th>profit_sum</th>\n",
       "    </tr>\n",
       "  </thead>\n",
       "  <tbody>\n",
       "    <tr>\n",
       "      <th>0</th>\n",
       "      <td>Accessories</td>\n",
       "      <td>2014</td>\n",
       "      <td>6402.7150</td>\n",
       "    </tr>\n",
       "    <tr>\n",
       "      <th>1</th>\n",
       "      <td>Accessories</td>\n",
       "      <td>2015</td>\n",
       "      <td>10197.2752</td>\n",
       "    </tr>\n",
       "    <tr>\n",
       "      <th>2</th>\n",
       "      <td>Accessories</td>\n",
       "      <td>2016</td>\n",
       "      <td>9664.2885</td>\n",
       "    </tr>\n",
       "    <tr>\n",
       "      <th>3</th>\n",
       "      <td>Accessories</td>\n",
       "      <td>2017</td>\n",
       "      <td>15672.3570</td>\n",
       "    </tr>\n",
       "    <tr>\n",
       "      <th>4</th>\n",
       "      <td>Appliances</td>\n",
       "      <td>2014</td>\n",
       "      <td>2459.4999</td>\n",
       "    </tr>\n",
       "  </tbody>\n",
       "</table>\n",
       "</div>"
      ],
      "text/plain": [
       "  Sub-Category  year  profit_sum\n",
       "0  Accessories  2014   6402.7150\n",
       "1  Accessories  2015  10197.2752\n",
       "2  Accessories  2016   9664.2885\n",
       "3  Accessories  2017  15672.3570\n",
       "4   Appliances  2014   2459.4999"
      ]
     },
     "execution_count": 65,
     "metadata": {},
     "output_type": "execute_result"
    }
   ],
   "source": [
    "%%time\n",
    "df_agg2 = df_vendas.groupby(by=[\"Sub-Category\", \"year\"], as_index=False, axis=0,\n",
    "                            dropna=False, observed=False, sort=True, group_keys=False).apply(agg_func_2)\n",
    "\n",
    "df_agg2.year = df_agg2.year.astype(int)\n",
    "\n",
    "df_agg2.head()"
   ]
  },
  {
   "cell_type": "code",
   "execution_count": 72,
   "metadata": {},
   "outputs": [],
   "source": [
    "def agg_func_3(g):\n",
    "    \n",
    "    dictResult = {}\n",
    "    \n",
    "    dictResult['sub_category'] = g[\"Sub-Category\"]\n",
    "    dictResult['year'] = g[\"year\"]\n",
    "    dictResult['profit_sum'] = g[\"profit_sum\"]\n",
    "    dictResult['profit_cumsum'] = g[\"profit_sum\"].cumsum()\n",
    "    \n",
    "    return pd.DataFrame(dictResult)\n",
    "\n",
    "df_agg3 = df_agg2.groupby(by=[\"Sub-Category\"], as_index=False, axis=0,\n",
    "                            dropna=False, observed=False, sort=True).apply(agg_func_3)"
   ]
  },
  {
   "cell_type": "code",
   "execution_count": 74,
   "metadata": {},
   "outputs": [
    {
     "data": {
      "text/html": [
       "<div>\n",
       "<style scoped>\n",
       "    .dataframe tbody tr th:only-of-type {\n",
       "        vertical-align: middle;\n",
       "    }\n",
       "\n",
       "    .dataframe tbody tr th {\n",
       "        vertical-align: top;\n",
       "    }\n",
       "\n",
       "    .dataframe thead th {\n",
       "        text-align: right;\n",
       "    }\n",
       "</style>\n",
       "<table border=\"1\" class=\"dataframe\">\n",
       "  <thead>\n",
       "    <tr style=\"text-align: right;\">\n",
       "      <th></th>\n",
       "      <th>sub_category</th>\n",
       "      <th>year</th>\n",
       "      <th>profit_sum</th>\n",
       "      <th>profit_cumsum</th>\n",
       "    </tr>\n",
       "  </thead>\n",
       "  <tbody>\n",
       "    <tr>\n",
       "      <th>0</th>\n",
       "      <td>Accessories</td>\n",
       "      <td>2014</td>\n",
       "      <td>6402.7150</td>\n",
       "      <td>6402.7150</td>\n",
       "    </tr>\n",
       "    <tr>\n",
       "      <th>1</th>\n",
       "      <td>Accessories</td>\n",
       "      <td>2015</td>\n",
       "      <td>10197.2752</td>\n",
       "      <td>16599.9902</td>\n",
       "    </tr>\n",
       "    <tr>\n",
       "      <th>2</th>\n",
       "      <td>Accessories</td>\n",
       "      <td>2016</td>\n",
       "      <td>9664.2885</td>\n",
       "      <td>26264.2787</td>\n",
       "    </tr>\n",
       "    <tr>\n",
       "      <th>3</th>\n",
       "      <td>Accessories</td>\n",
       "      <td>2017</td>\n",
       "      <td>15672.3570</td>\n",
       "      <td>41936.6357</td>\n",
       "    </tr>\n",
       "    <tr>\n",
       "      <th>4</th>\n",
       "      <td>Appliances</td>\n",
       "      <td>2014</td>\n",
       "      <td>2459.4999</td>\n",
       "      <td>2459.4999</td>\n",
       "    </tr>\n",
       "  </tbody>\n",
       "</table>\n",
       "</div>"
      ],
      "text/plain": [
       "  sub_category  year  profit_sum  profit_cumsum\n",
       "0  Accessories  2014   6402.7150      6402.7150\n",
       "1  Accessories  2015  10197.2752     16599.9902\n",
       "2  Accessories  2016   9664.2885     26264.2787\n",
       "3  Accessories  2017  15672.3570     41936.6357\n",
       "4   Appliances  2014   2459.4999      2459.4999"
      ]
     },
     "execution_count": 74,
     "metadata": {},
     "output_type": "execute_result"
    }
   ],
   "source": [
    "df_agg3.head(5)"
   ]
  },
  {
   "cell_type": "markdown",
   "metadata": {},
   "source": [
    "- Plot resposta:"
   ]
  },
  {
   "cell_type": "code",
   "execution_count": 87,
   "metadata": {
    "scrolled": false
   },
   "outputs": [
    {
     "name": "stderr",
     "output_type": "stream",
     "text": [
      "C:\\Users\\vierb\\anaconda3\\lib\\site-packages\\seaborn\\categorical.py:3793: UserWarning: Setting `sharex=False` with `color=None` may cause different levels of the `x` variable to share colors. This will change in a future version.\n",
      "  warnings.warn(msg.format(\"sharex\", \"x\"), UserWarning)\n"
     ]
    },
    {
     "data": {
      "text/plain": [
       "<seaborn.axisgrid.FacetGrid at 0x2acd50ec760>"
      ]
     },
     "execution_count": 87,
     "metadata": {},
     "output_type": "execute_result"
    },
    {
     "data": {
      "image/png": "[encoded data removed]",
      "text/plain": [
       "<Figure size 1080x2160 with 17 Axes>"
      ]
     },
     "metadata": {
      "needs_background": "light"
     },
     "output_type": "display_data"
    }
   ],
   "source": [
    "sb.catplot(data=df_agg3, \n",
    "           col=\"sub_category\", \n",
    "           x=\"year\", \n",
    "           y=\"profit_cumsum\", \n",
    "           height=5, \n",
    "           kind=\"bar\",\n",
    "           orient=\"v\",\n",
    "           legend=True,\n",
    "           sharey=False,\n",
    "           sharex=False,\n",
    "           margin_titles=True,\n",
    "           col_wrap=3)"
   ]
  },
  {
   "cell_type": "code",
   "execution_count": 89,
   "metadata": {},
   "outputs": [],
   "source": [
    "# O resultado com os dados ficará disponível com o nome \"dados_vendas.csv\"\n",
    "df_agg3.to_csv(\"dados_marketing.csv\", sep=\";\", decimal=\".\")"
   ]
  },
  {
   "cell_type": "markdown",
   "metadata": {},
   "source": [
    "------------------"
   ]
  },
  {
   "cell_type": "markdown",
   "metadata": {},
   "source": [
    "### Q3\n",
    "\n",
    "Q3. (4,0) Por fim, o pessoal do financeiro gostariam de receber um CSV com a quantidade de consumidores por\n",
    "classe de performance das vendas e Segment do consumidor."
   ]
  },
  {
   "cell_type": "code",
   "execution_count": 90,
   "metadata": {},
   "outputs": [
    {
     "data": {
      "text/html": [
       "<div>\n",
       "<style scoped>\n",
       "    .dataframe tbody tr th:only-of-type {\n",
       "        vertical-align: middle;\n",
       "    }\n",
       "\n",
       "    .dataframe tbody tr th {\n",
       "        vertical-align: top;\n",
       "    }\n",
       "\n",
       "    .dataframe thead th {\n",
       "        text-align: right;\n",
       "    }\n",
       "</style>\n",
       "<table border=\"1\" class=\"dataframe\">\n",
       "  <thead>\n",
       "    <tr style=\"text-align: right;\">\n",
       "      <th></th>\n",
       "      <th>Row ID</th>\n",
       "      <th>Order ID</th>\n",
       "      <th>Order Date</th>\n",
       "      <th>Ship Date</th>\n",
       "      <th>Ship Mode</th>\n",
       "      <th>Customer ID</th>\n",
       "      <th>Customer Name</th>\n",
       "      <th>Segment</th>\n",
       "      <th>Country</th>\n",
       "      <th>City</th>\n",
       "      <th>...</th>\n",
       "      <th>Category</th>\n",
       "      <th>Sub-Category</th>\n",
       "      <th>Product Name</th>\n",
       "      <th>Sales</th>\n",
       "      <th>Quantity</th>\n",
       "      <th>Discount</th>\n",
       "      <th>Profit</th>\n",
       "      <th>day</th>\n",
       "      <th>month</th>\n",
       "      <th>year</th>\n",
       "    </tr>\n",
       "  </thead>\n",
       "  <tbody>\n",
       "    <tr>\n",
       "      <th>0</th>\n",
       "      <td>1</td>\n",
       "      <td>CA-2016-152156</td>\n",
       "      <td>2016-11-08</td>\n",
       "      <td>11/11/2016</td>\n",
       "      <td>Second Class</td>\n",
       "      <td>CG-12520</td>\n",
       "      <td>Claire Gute</td>\n",
       "      <td>Consumer</td>\n",
       "      <td>United States</td>\n",
       "      <td>Henderson</td>\n",
       "      <td>...</td>\n",
       "      <td>Furniture</td>\n",
       "      <td>Bookcases</td>\n",
       "      <td>Bush Somerset Collection Bookcase</td>\n",
       "      <td>261.96</td>\n",
       "      <td>2</td>\n",
       "      <td>0.0</td>\n",
       "      <td>41.9136</td>\n",
       "      <td>8</td>\n",
       "      <td>11</td>\n",
       "      <td>2016</td>\n",
       "    </tr>\n",
       "    <tr>\n",
       "      <th>1</th>\n",
       "      <td>2</td>\n",
       "      <td>CA-2016-152156</td>\n",
       "      <td>2016-11-08</td>\n",
       "      <td>11/11/2016</td>\n",
       "      <td>Second Class</td>\n",
       "      <td>CG-12520</td>\n",
       "      <td>Claire Gute</td>\n",
       "      <td>Consumer</td>\n",
       "      <td>United States</td>\n",
       "      <td>Henderson</td>\n",
       "      <td>...</td>\n",
       "      <td>Furniture</td>\n",
       "      <td>Chairs</td>\n",
       "      <td>Hon Deluxe Fabric Upholstered Stacking Chairs,...</td>\n",
       "      <td>731.94</td>\n",
       "      <td>3</td>\n",
       "      <td>0.0</td>\n",
       "      <td>219.5820</td>\n",
       "      <td>8</td>\n",
       "      <td>11</td>\n",
       "      <td>2016</td>\n",
       "    </tr>\n",
       "    <tr>\n",
       "      <th>2</th>\n",
       "      <td>3</td>\n",
       "      <td>CA-2016-138688</td>\n",
       "      <td>2016-06-12</td>\n",
       "      <td>6/16/2016</td>\n",
       "      <td>Second Class</td>\n",
       "      <td>DV-13045</td>\n",
       "      <td>Darrin Van Huff</td>\n",
       "      <td>Corporate</td>\n",
       "      <td>United States</td>\n",
       "      <td>Los Angeles</td>\n",
       "      <td>...</td>\n",
       "      <td>Office Supplies</td>\n",
       "      <td>Labels</td>\n",
       "      <td>Self-Adhesive Address Labels for Typewriters b...</td>\n",
       "      <td>14.62</td>\n",
       "      <td>2</td>\n",
       "      <td>0.0</td>\n",
       "      <td>6.8714</td>\n",
       "      <td>12</td>\n",
       "      <td>6</td>\n",
       "      <td>2016</td>\n",
       "    </tr>\n",
       "  </tbody>\n",
       "</table>\n",
       "<p>3 rows × 24 columns</p>\n",
       "</div>"
      ],
      "text/plain": [
       "   Row ID        Order ID Order Date   Ship Date     Ship Mode Customer ID  \\\n",
       "0       1  CA-2016-152156 2016-11-08  11/11/2016  Second Class    CG-12520   \n",
       "1       2  CA-2016-152156 2016-11-08  11/11/2016  Second Class    CG-12520   \n",
       "2       3  CA-2016-138688 2016-06-12   6/16/2016  Second Class    DV-13045   \n",
       "\n",
       "     Customer Name    Segment        Country         City  ...  \\\n",
       "0      Claire Gute   Consumer  United States    Henderson  ...   \n",
       "1      Claire Gute   Consumer  United States    Henderson  ...   \n",
       "2  Darrin Van Huff  Corporate  United States  Los Angeles  ...   \n",
       "\n",
       "          Category  Sub-Category  \\\n",
       "0        Furniture     Bookcases   \n",
       "1        Furniture        Chairs   \n",
       "2  Office Supplies        Labels   \n",
       "\n",
       "                                        Product Name   Sales Quantity  \\\n",
       "0                  Bush Somerset Collection Bookcase  261.96        2   \n",
       "1  Hon Deluxe Fabric Upholstered Stacking Chairs,...  731.94        3   \n",
       "2  Self-Adhesive Address Labels for Typewriters b...   14.62        2   \n",
       "\n",
       "  Discount    Profit  day  month  year  \n",
       "0      0.0   41.9136    8     11  2016  \n",
       "1      0.0  219.5820    8     11  2016  \n",
       "2      0.0    6.8714   12      6  2016  \n",
       "\n",
       "[3 rows x 24 columns]"
      ]
     },
     "execution_count": 90,
     "metadata": {},
     "output_type": "execute_result"
    }
   ],
   "source": [
    "df_vendas.head(3)"
   ]
  },
  {
   "cell_type": "code",
   "execution_count": 91,
   "metadata": {},
   "outputs": [
    {
     "data": {
      "text/html": [
       "<div>\n",
       "<style scoped>\n",
       "    .dataframe tbody tr th:only-of-type {\n",
       "        vertical-align: middle;\n",
       "    }\n",
       "\n",
       "    .dataframe tbody tr th {\n",
       "        vertical-align: top;\n",
       "    }\n",
       "\n",
       "    .dataframe thead th {\n",
       "        text-align: right;\n",
       "    }\n",
       "</style>\n",
       "<table border=\"1\" class=\"dataframe\">\n",
       "  <thead>\n",
       "    <tr style=\"text-align: right;\">\n",
       "      <th></th>\n",
       "      <th>0</th>\n",
       "      <th>1</th>\n",
       "      <th>2</th>\n",
       "    </tr>\n",
       "  </thead>\n",
       "  <tbody>\n",
       "    <tr>\n",
       "      <th>Row ID</th>\n",
       "      <td>1</td>\n",
       "      <td>2</td>\n",
       "      <td>3</td>\n",
       "    </tr>\n",
       "    <tr>\n",
       "      <th>Order ID</th>\n",
       "      <td>CA-2016-152156</td>\n",
       "      <td>CA-2016-152156</td>\n",
       "      <td>CA-2016-138688</td>\n",
       "    </tr>\n",
       "    <tr>\n",
       "      <th>Order Date</th>\n",
       "      <td>2016-11-08 00:00:00</td>\n",
       "      <td>2016-11-08 00:00:00</td>\n",
       "      <td>2016-06-12 00:00:00</td>\n",
       "    </tr>\n",
       "    <tr>\n",
       "      <th>Ship Date</th>\n",
       "      <td>11/11/2016</td>\n",
       "      <td>11/11/2016</td>\n",
       "      <td>6/16/2016</td>\n",
       "    </tr>\n",
       "    <tr>\n",
       "      <th>Ship Mode</th>\n",
       "      <td>Second Class</td>\n",
       "      <td>Second Class</td>\n",
       "      <td>Second Class</td>\n",
       "    </tr>\n",
       "    <tr>\n",
       "      <th>Customer ID</th>\n",
       "      <td>CG-12520</td>\n",
       "      <td>CG-12520</td>\n",
       "      <td>DV-13045</td>\n",
       "    </tr>\n",
       "    <tr>\n",
       "      <th>Customer Name</th>\n",
       "      <td>Claire Gute</td>\n",
       "      <td>Claire Gute</td>\n",
       "      <td>Darrin Van Huff</td>\n",
       "    </tr>\n",
       "    <tr>\n",
       "      <th>Segment</th>\n",
       "      <td>Consumer</td>\n",
       "      <td>Consumer</td>\n",
       "      <td>Corporate</td>\n",
       "    </tr>\n",
       "    <tr>\n",
       "      <th>Country</th>\n",
       "      <td>United States</td>\n",
       "      <td>United States</td>\n",
       "      <td>United States</td>\n",
       "    </tr>\n",
       "    <tr>\n",
       "      <th>City</th>\n",
       "      <td>Henderson</td>\n",
       "      <td>Henderson</td>\n",
       "      <td>Los Angeles</td>\n",
       "    </tr>\n",
       "    <tr>\n",
       "      <th>State</th>\n",
       "      <td>Kentucky</td>\n",
       "      <td>Kentucky</td>\n",
       "      <td>California</td>\n",
       "    </tr>\n",
       "    <tr>\n",
       "      <th>Postal Code</th>\n",
       "      <td>42420</td>\n",
       "      <td>42420</td>\n",
       "      <td>90036</td>\n",
       "    </tr>\n",
       "    <tr>\n",
       "      <th>Region</th>\n",
       "      <td>South</td>\n",
       "      <td>South</td>\n",
       "      <td>West</td>\n",
       "    </tr>\n",
       "    <tr>\n",
       "      <th>Product ID</th>\n",
       "      <td>FUR-BO-10001798</td>\n",
       "      <td>FUR-CH-10000454</td>\n",
       "      <td>OFF-LA-10000240</td>\n",
       "    </tr>\n",
       "    <tr>\n",
       "      <th>Category</th>\n",
       "      <td>Furniture</td>\n",
       "      <td>Furniture</td>\n",
       "      <td>Office Supplies</td>\n",
       "    </tr>\n",
       "    <tr>\n",
       "      <th>Sub-Category</th>\n",
       "      <td>Bookcases</td>\n",
       "      <td>Chairs</td>\n",
       "      <td>Labels</td>\n",
       "    </tr>\n",
       "    <tr>\n",
       "      <th>Product Name</th>\n",
       "      <td>Bush Somerset Collection Bookcase</td>\n",
       "      <td>Hon Deluxe Fabric Upholstered Stacking Chairs,...</td>\n",
       "      <td>Self-Adhesive Address Labels for Typewriters b...</td>\n",
       "    </tr>\n",
       "    <tr>\n",
       "      <th>Sales</th>\n",
       "      <td>261.96</td>\n",
       "      <td>731.94</td>\n",
       "      <td>14.62</td>\n",
       "    </tr>\n",
       "    <tr>\n",
       "      <th>Quantity</th>\n",
       "      <td>2</td>\n",
       "      <td>3</td>\n",
       "      <td>2</td>\n",
       "    </tr>\n",
       "    <tr>\n",
       "      <th>Discount</th>\n",
       "      <td>0.0</td>\n",
       "      <td>0.0</td>\n",
       "      <td>0.0</td>\n",
       "    </tr>\n",
       "    <tr>\n",
       "      <th>Profit</th>\n",
       "      <td>41.9136</td>\n",
       "      <td>219.582</td>\n",
       "      <td>6.8714</td>\n",
       "    </tr>\n",
       "    <tr>\n",
       "      <th>day</th>\n",
       "      <td>8</td>\n",
       "      <td>8</td>\n",
       "      <td>12</td>\n",
       "    </tr>\n",
       "    <tr>\n",
       "      <th>month</th>\n",
       "      <td>11</td>\n",
       "      <td>11</td>\n",
       "      <td>6</td>\n",
       "    </tr>\n",
       "    <tr>\n",
       "      <th>year</th>\n",
       "      <td>2016</td>\n",
       "      <td>2016</td>\n",
       "      <td>2016</td>\n",
       "    </tr>\n",
       "  </tbody>\n",
       "</table>\n",
       "</div>"
      ],
      "text/plain": [
       "                                               0  \\\n",
       "Row ID                                         1   \n",
       "Order ID                          CA-2016-152156   \n",
       "Order Date                   2016-11-08 00:00:00   \n",
       "Ship Date                             11/11/2016   \n",
       "Ship Mode                           Second Class   \n",
       "Customer ID                             CG-12520   \n",
       "Customer Name                        Claire Gute   \n",
       "Segment                                 Consumer   \n",
       "Country                            United States   \n",
       "City                                   Henderson   \n",
       "State                                   Kentucky   \n",
       "Postal Code                                42420   \n",
       "Region                                     South   \n",
       "Product ID                       FUR-BO-10001798   \n",
       "Category                               Furniture   \n",
       "Sub-Category                           Bookcases   \n",
       "Product Name   Bush Somerset Collection Bookcase   \n",
       "Sales                                     261.96   \n",
       "Quantity                                       2   \n",
       "Discount                                     0.0   \n",
       "Profit                                   41.9136   \n",
       "day                                            8   \n",
       "month                                         11   \n",
       "year                                        2016   \n",
       "\n",
       "                                                               1  \\\n",
       "Row ID                                                         2   \n",
       "Order ID                                          CA-2016-152156   \n",
       "Order Date                                   2016-11-08 00:00:00   \n",
       "Ship Date                                             11/11/2016   \n",
       "Ship Mode                                           Second Class   \n",
       "Customer ID                                             CG-12520   \n",
       "Customer Name                                        Claire Gute   \n",
       "Segment                                                 Consumer   \n",
       "Country                                            United States   \n",
       "City                                                   Henderson   \n",
       "State                                                   Kentucky   \n",
       "Postal Code                                                42420   \n",
       "Region                                                     South   \n",
       "Product ID                                       FUR-CH-10000454   \n",
       "Category                                               Furniture   \n",
       "Sub-Category                                              Chairs   \n",
       "Product Name   Hon Deluxe Fabric Upholstered Stacking Chairs,...   \n",
       "Sales                                                     731.94   \n",
       "Quantity                                                       3   \n",
       "Discount                                                     0.0   \n",
       "Profit                                                   219.582   \n",
       "day                                                            8   \n",
       "month                                                         11   \n",
       "year                                                        2016   \n",
       "\n",
       "                                                               2  \n",
       "Row ID                                                         3  \n",
       "Order ID                                          CA-2016-138688  \n",
       "Order Date                                   2016-06-12 00:00:00  \n",
       "Ship Date                                              6/16/2016  \n",
       "Ship Mode                                           Second Class  \n",
       "Customer ID                                             DV-13045  \n",
       "Customer Name                                    Darrin Van Huff  \n",
       "Segment                                                Corporate  \n",
       "Country                                            United States  \n",
       "City                                                 Los Angeles  \n",
       "State                                                 California  \n",
       "Postal Code                                                90036  \n",
       "Region                                                      West  \n",
       "Product ID                                       OFF-LA-10000240  \n",
       "Category                                         Office Supplies  \n",
       "Sub-Category                                              Labels  \n",
       "Product Name   Self-Adhesive Address Labels for Typewriters b...  \n",
       "Sales                                                      14.62  \n",
       "Quantity                                                       2  \n",
       "Discount                                                     0.0  \n",
       "Profit                                                    6.8714  \n",
       "day                                                           12  \n",
       "month                                                          6  \n",
       "year                                                        2016  "
      ]
     },
     "execution_count": 91,
     "metadata": {},
     "output_type": "execute_result"
    }
   ],
   "source": [
    "df_vendas.head(3).T"
   ]
  },
  {
   "cell_type": "markdown",
   "metadata": {},
   "source": [
    "- Temos muitos consumidores que fizeram mais de um consumo:"
   ]
  },
  {
   "cell_type": "code",
   "execution_count": 92,
   "metadata": {},
   "outputs": [
    {
     "data": {
      "text/plain": [
       "WB-21850    37\n",
       "JL-15835    34\n",
       "MA-17560    34\n",
       "PP-18955    34\n",
       "CK-12205    32\n",
       "            ..\n",
       "LD-16855     1\n",
       "AO-10810     1\n",
       "CJ-11875     1\n",
       "RE-19405     1\n",
       "JR-15700     1\n",
       "Name: Customer ID, Length: 793, dtype: int64"
      ]
     },
     "execution_count": 92,
     "metadata": {},
     "output_type": "execute_result"
    }
   ],
   "source": [
    "df_vendas[\"Customer ID\"].value_counts()"
   ]
  },
  {
   "cell_type": "markdown",
   "metadata": {},
   "source": [
    "- Tipos de segmento e suas volumetrias:"
   ]
  },
  {
   "cell_type": "code",
   "execution_count": 102,
   "metadata": {},
   "outputs": [
    {
     "data": {
      "text/plain": [
       "Consumer       5191\n",
       "Corporate      3020\n",
       "Home Office    1783\n",
       "Name: Segment, dtype: int64"
      ]
     },
     "execution_count": 102,
     "metadata": {},
     "output_type": "execute_result"
    }
   ],
   "source": [
    "df_vendas[\"Segment\"].value_counts()"
   ]
  },
  {
   "cell_type": "markdown",
   "metadata": {},
   "source": [
    "        "
   ]
  },
  {
   "cell_type": "markdown",
   "metadata": {},
   "source": [
    "- Classe de Performance:"
   ]
  },
  {
   "cell_type": "code",
   "execution_count": 93,
   "metadata": {},
   "outputs": [],
   "source": [
    "def class_perf(row):\n",
    "    r = row[\"Profit\"]/(row[\"Sales\"]-row[\"Discount\"])\n",
    "    return r"
   ]
  },
  {
   "cell_type": "code",
   "execution_count": 96,
   "metadata": {},
   "outputs": [],
   "source": [
    "df_vendas[\"class_perf\"] = df_vendas.apply(class_perf, axis=1)"
   ]
  },
  {
   "cell_type": "code",
   "execution_count": 97,
   "metadata": {},
   "outputs": [
    {
     "data": {
      "text/plain": [
       "count    9994.000000\n",
       "mean        0.096314\n",
       "std         0.715747\n",
       "min       -37.155556\n",
       "25%         0.075018\n",
       "50%         0.270000\n",
       "75%         0.366666\n",
       "max         3.873770\n",
       "Name: class_perf, dtype: float64"
      ]
     },
     "execution_count": 97,
     "metadata": {},
     "output_type": "execute_result"
    }
   ],
   "source": [
    "df_vendas[\"class_perf\"].describe()"
   ]
  },
  {
   "cell_type": "code",
   "execution_count": 98,
   "metadata": {},
   "outputs": [
    {
     "data": {
      "text/html": [
       "<div>\n",
       "<style scoped>\n",
       "    .dataframe tbody tr th:only-of-type {\n",
       "        vertical-align: middle;\n",
       "    }\n",
       "\n",
       "    .dataframe tbody tr th {\n",
       "        vertical-align: top;\n",
       "    }\n",
       "\n",
       "    .dataframe thead th {\n",
       "        text-align: right;\n",
       "    }\n",
       "</style>\n",
       "<table border=\"1\" class=\"dataframe\">\n",
       "  <thead>\n",
       "    <tr style=\"text-align: right;\">\n",
       "      <th></th>\n",
       "      <th>Profit</th>\n",
       "      <th>Sales</th>\n",
       "      <th>Discount</th>\n",
       "      <th>class_perf</th>\n",
       "    </tr>\n",
       "  </thead>\n",
       "  <tbody>\n",
       "    <tr>\n",
       "      <th>0</th>\n",
       "      <td>41.9136</td>\n",
       "      <td>261.9600</td>\n",
       "      <td>0.00</td>\n",
       "      <td>0.160000</td>\n",
       "    </tr>\n",
       "    <tr>\n",
       "      <th>1</th>\n",
       "      <td>219.5820</td>\n",
       "      <td>731.9400</td>\n",
       "      <td>0.00</td>\n",
       "      <td>0.300000</td>\n",
       "    </tr>\n",
       "    <tr>\n",
       "      <th>2</th>\n",
       "      <td>6.8714</td>\n",
       "      <td>14.6200</td>\n",
       "      <td>0.00</td>\n",
       "      <td>0.470000</td>\n",
       "    </tr>\n",
       "    <tr>\n",
       "      <th>3</th>\n",
       "      <td>-383.0310</td>\n",
       "      <td>957.5775</td>\n",
       "      <td>0.45</td>\n",
       "      <td>-0.400188</td>\n",
       "    </tr>\n",
       "    <tr>\n",
       "      <th>4</th>\n",
       "      <td>2.5164</td>\n",
       "      <td>22.3680</td>\n",
       "      <td>0.20</td>\n",
       "      <td>0.113515</td>\n",
       "    </tr>\n",
       "  </tbody>\n",
       "</table>\n",
       "</div>"
      ],
      "text/plain": [
       "     Profit     Sales  Discount  class_perf\n",
       "0   41.9136  261.9600      0.00    0.160000\n",
       "1  219.5820  731.9400      0.00    0.300000\n",
       "2    6.8714   14.6200      0.00    0.470000\n",
       "3 -383.0310  957.5775      0.45   -0.400188\n",
       "4    2.5164   22.3680      0.20    0.113515"
      ]
     },
     "execution_count": 98,
     "metadata": {},
     "output_type": "execute_result"
    }
   ],
   "source": [
    "df_vendas[[\"Profit\",\"Sales\",\"Discount\",\"class_perf\"]].head()"
   ]
  },
  {
   "cell_type": "code",
   "execution_count": 101,
   "metadata": {},
   "outputs": [],
   "source": [
    "def class_perf_label(v):\n",
    "    \n",
    "    if v <= 0.1:\n",
    "        return \"E\"\n",
    "    elif v <= 0.15:\n",
    "        return \"D\"\n",
    "    elif v <= 0.2:\n",
    "        return \"C\"\n",
    "    elif v <= 0.25:\n",
    "        return \"B\"\n",
    "    elif v > 0.25:\n",
    "        return \"A\"\n",
    "    else:\n",
    "        return \"F\"\n",
    "    \n",
    "df_vendas[\"class_perf_label\"] = df_vendas.class_perf.apply(class_perf_label)"
   ]
  },
  {
   "cell_type": "markdown",
   "metadata": {},
   "source": [
    "        "
   ]
  },
  {
   "cell_type": "markdown",
   "metadata": {},
   "source": [
    "- Pivotando com agregação:"
   ]
  },
  {
   "cell_type": "code",
   "execution_count": 104,
   "metadata": {},
   "outputs": [],
   "source": [
    "df_result = df_vendas.pivot_table(values=\"Customer ID\",index=[\"class_perf_label\"], columns=[\"Segment\"], aggfunc=\"count\")"
   ]
  },
  {
   "cell_type": "code",
   "execution_count": 112,
   "metadata": {},
   "outputs": [
    {
     "data": {
      "text/html": [
       "<div>\n",
       "<style scoped>\n",
       "    .dataframe tbody tr th:only-of-type {\n",
       "        vertical-align: middle;\n",
       "    }\n",
       "\n",
       "    .dataframe tbody tr th {\n",
       "        vertical-align: top;\n",
       "    }\n",
       "\n",
       "    .dataframe thead th {\n",
       "        text-align: right;\n",
       "    }\n",
       "</style>\n",
       "<table border=\"1\" class=\"dataframe\">\n",
       "  <thead>\n",
       "    <tr style=\"text-align: right;\">\n",
       "      <th>Segment</th>\n",
       "      <th>Consumer</th>\n",
       "      <th>Corporate</th>\n",
       "      <th>Home Office</th>\n",
       "    </tr>\n",
       "    <tr>\n",
       "      <th>class_perf_label</th>\n",
       "      <th></th>\n",
       "      <th></th>\n",
       "      <th></th>\n",
       "    </tr>\n",
       "  </thead>\n",
       "  <tbody>\n",
       "    <tr>\n",
       "      <th>A</th>\n",
       "      <td>2821</td>\n",
       "      <td>1675</td>\n",
       "      <td>1020</td>\n",
       "    </tr>\n",
       "    <tr>\n",
       "      <th>B</th>\n",
       "      <td>212</td>\n",
       "      <td>124</td>\n",
       "      <td>95</td>\n",
       "    </tr>\n",
       "    <tr>\n",
       "      <th>C</th>\n",
       "      <td>186</td>\n",
       "      <td>114</td>\n",
       "      <td>66</td>\n",
       "    </tr>\n",
       "    <tr>\n",
       "      <th>D</th>\n",
       "      <td>393</td>\n",
       "      <td>213</td>\n",
       "      <td>114</td>\n",
       "    </tr>\n",
       "    <tr>\n",
       "      <th>E</th>\n",
       "      <td>1579</td>\n",
       "      <td>894</td>\n",
       "      <td>488</td>\n",
       "    </tr>\n",
       "  </tbody>\n",
       "</table>\n",
       "</div>"
      ],
      "text/plain": [
       "Segment           Consumer  Corporate  Home Office\n",
       "class_perf_label                                  \n",
       "A                     2821       1675         1020\n",
       "B                      212        124           95\n",
       "C                      186        114           66\n",
       "D                      393        213          114\n",
       "E                     1579        894          488"
      ]
     },
     "execution_count": 112,
     "metadata": {},
     "output_type": "execute_result"
    }
   ],
   "source": [
    "df_result"
   ]
  },
  {
   "cell_type": "code",
   "execution_count": 115,
   "metadata": {
    "scrolled": true
   },
   "outputs": [
    {
     "data": {
      "text/plain": [
       "Segment\n",
       "Consumer       5191\n",
       "Corporate      3020\n",
       "Home Office    1783\n",
       "dtype: int64"
      ]
     },
     "execution_count": 115,
     "metadata": {},
     "output_type": "execute_result"
    }
   ],
   "source": [
    "df_result.sum()"
   ]
  },
  {
   "cell_type": "code",
   "execution_count": 114,
   "metadata": {
    "scrolled": true
   },
   "outputs": [
    {
     "data": {
      "text/plain": [
       "9994"
      ]
     },
     "execution_count": 114,
     "metadata": {},
     "output_type": "execute_result"
    }
   ],
   "source": [
    "df_result.sum().sum()"
   ]
  },
  {
   "cell_type": "code",
   "execution_count": 117,
   "metadata": {},
   "outputs": [
    {
     "data": {
      "text/plain": [
       "(9994, 26)"
      ]
     },
     "execution_count": 117,
     "metadata": {},
     "output_type": "execute_result"
    }
   ],
   "source": [
    "df_vendas.shape"
   ]
  },
  {
   "cell_type": "markdown",
   "metadata": {},
   "source": [
    "- Resultado:"
   ]
  },
  {
   "cell_type": "code",
   "execution_count": 119,
   "metadata": {},
   "outputs": [],
   "source": [
    "# O resultado com os dados ficará disponível com o nome \"dados_vendas.csv\"\n",
    "df_result.to_csv(\"dados_financeiro.csv\", sep=\";\", decimal=\".\")"
   ]
  },
  {
   "cell_type": "markdown",
   "metadata": {},
   "source": [
    "        "
   ]
  }
 ],
 "metadata": {
  "kernelspec": {
   "display_name": "Python 3",
   "language": "python",
   "name": "python3"
  },
  "language_info": {
   "codemirror_mode": {
    "name": "ipython",
    "version": 3
   },
   "file_extension": ".py",
   "mimetype": "text/x-python",
   "name": "python",
   "nbconvert_exporter": "python",
   "pygments_lexer": "ipython3",
   "version": "3.8.5"
  }
 },
 "nbformat": 4,
 "nbformat_minor": 4
}
